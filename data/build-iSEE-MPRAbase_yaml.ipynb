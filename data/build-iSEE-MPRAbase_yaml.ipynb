{
 "cells": [
  {
   "cell_type": "code",
   "execution_count": 1,
   "id": "aaa9a9c7-5a48-4785-8676-59f85c9cf9ad",
   "metadata": {
    "tags": []
   },
   "outputs": [],
   "source": [
    "# Load necessary libraries\n",
    "library(tools)\n",
    "library(yaml)"
   ]
  },
  {
   "cell_type": "code",
   "execution_count": 2,
   "id": "7ea8c41f-42b7-4738-acca-041d94f4d311",
   "metadata": {
    "tags": []
   },
   "outputs": [],
   "source": [
    "\n",
    "# Define the root directory where your subfolders are located\n",
    "root_dir <- \"./\"\n",
    "\n",
    "# Get the list of all subfolders\n",
    "subfolders <- list.dirs(root_dir, recursive = FALSE)\n",
    "\n",
    "# Initialize an empty list to store the data from .rds files\n",
    "rds_data_list <- list()\n",
    "\n",
    "# Loop through each subfolder\n",
    "for (subfolder in subfolders) {\n",
    "  \n",
    "  # Find all .rds files in the current subfolder\n",
    "  rds_files <- list.files(subfolder, pattern = \"\\\\.rds$\", full.names = TRUE)\n",
    "  \n",
    "  # If any .rds files are found, loop through them and read the data\n",
    "  if (length(rds_files) > 0) {\n",
    "    for (rds_file in rds_files) {\n",
    "      # Read the .rds file and append it to the rds_data_list\n",
    "      rds_data <- readRDS(rds_file)\n",
    "      rds_data_list[[file_path_sans_ext(rds_file)]] <- rds_data\n",
    "    }\n",
    "  }\n",
    "}\n",
    "\n",
    "# The rds_data_list now contains data from all .rds files in the subfolders"
   ]
  },
  {
   "cell_type": "code",
   "execution_count": 34,
   "id": "53ab2c96-28d8-4fef-9f49-c2375147211d",
   "metadata": {
    "tags": []
   },
   "outputs": [],
   "source": [
    "metadata_list <- list()\n",
    "config_list <- list()\n",
    "\n",
    "for(i in 1:length(rds_data_list)){\n",
    "    \n",
    "    metadata_list[[i]] <- list(\n",
    "        id = paste0('BFC',i),\n",
    "        title=paste0('BFC',i),\n",
    "        uri = paste0('localhost://../../MPRAbase-Builder/data', sub(\"\\\\./\", \"\", names(rds_data_list)[[i]]), \".rds\"),\n",
    "        description =  paste0('BFC',i))\n",
    "    \n",
    "    config_list[[i]] <- list(\n",
    "        id = paste0(\"config\",i,\"rcall\"),\n",
    "        title=\"MPRA Secondary Analysis\",\n",
    "        datasets = list(paste0('BFC',i)),\n",
    "        uri = \"localhost://../../MPRAbase-Builder/configs/analysis-secondary.R\",\n",
    "        description = \"Test `SampleAssay` panel for biological replicate correlation analysis.\"\n",
    "    )\n",
    "    \n",
    "}\n",
    "yaml::write_yaml(list(datasets=metadata_list, initial=config_list), \"MPRAbase-v0.1.2.yaml\", indent = 2)"
   ]
  }
 ],
 "metadata": {
  "kernelspec": {
   "display_name": "R",
   "language": "R",
   "name": "ir"
  },
  "language_info": {
   "codemirror_mode": "r",
   "file_extension": ".r",
   "mimetype": "text/x-r-source",
   "name": "R",
   "pygments_lexer": "r",
   "version": "4.2.2"
  }
 },
 "nbformat": 4,
 "nbformat_minor": 5
}
