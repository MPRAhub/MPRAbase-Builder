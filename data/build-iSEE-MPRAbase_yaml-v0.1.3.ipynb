{
 "cells": [
  {
   "cell_type": "code",
   "execution_count": 3,
   "id": "aaa9a9c7-5a48-4785-8676-59f85c9cf9ad",
   "metadata": {
    "tags": []
   },
   "outputs": [],
   "source": [
    "# Load necessary libraries\n",
    "library(tools)\n",
    "library(yaml)\n",
    "library(SummarizedExperiment)\n",
    "library(httr)\n",
    "library(xml2)\n",
    "library(jsonlite)"
   ]
  },
  {
   "cell_type": "code",
   "execution_count": 2,
   "id": "7ea8c41f-42b7-4738-acca-041d94f4d311",
   "metadata": {
    "scrolled": true,
    "tags": []
   },
   "outputs": [
    {
     "data": {
      "text/html": [
       "<style>\n",
       ".list-inline {list-style: none; margin:0; padding: 0}\n",
       ".list-inline>li {display: inline-block}\n",
       ".list-inline>li:not(:last-child)::after {content: \"\\00b7\"; padding: 0 .5ex}\n",
       "</style>\n",
       "<ol class=list-inline><li>'RDS//SRP018414-Liver_SE.rds'</li><li>'RDS//SRP018414-Robin_Hepg2_SE.rds'</li><li>'RDS//SRP044727-Hela_SE.rds'</li><li>'RDS//SRP044727-Liver_SE.rds'</li></ol>\n"
      ],
      "text/latex": [
       "\\begin{enumerate*}\n",
       "\\item 'RDS//SRP018414-Liver\\_SE.rds'\n",
       "\\item 'RDS//SRP018414-Robin\\_Hepg2\\_SE.rds'\n",
       "\\item 'RDS//SRP044727-Hela\\_SE.rds'\n",
       "\\item 'RDS//SRP044727-Liver\\_SE.rds'\n",
       "\\end{enumerate*}\n"
      ],
      "text/markdown": [
       "1. 'RDS//SRP018414-Liver_SE.rds'\n",
       "2. 'RDS//SRP018414-Robin_Hepg2_SE.rds'\n",
       "3. 'RDS//SRP044727-Hela_SE.rds'\n",
       "4. 'RDS//SRP044727-Liver_SE.rds'\n",
       "\n",
       "\n"
      ],
      "text/plain": [
       "[1] \"RDS//SRP018414-Liver_SE.rds\"       \"RDS//SRP018414-Robin_Hepg2_SE.rds\"\n",
       "[3] \"RDS//SRP044727-Hela_SE.rds\"        \"RDS//SRP044727-Liver_SE.rds\"      "
      ]
     },
     "metadata": {},
     "output_type": "display_data"
    }
   ],
   "source": [
    "# Define the root directory where your subfolders are located\n",
    "#root_dir <- \"./\"\n",
    "#root_dir <- \"/home/jovyan/MPRAhub/MPRAbase-Builder/data/RDS/\"\n",
    "root_dir <- 'RDS/'\n",
    "# Get the list of all subfolders\n",
    "#subfolders <- list.dirs(root_dir, recursive = FALSE)\n",
    "\n",
    "# Initialize an empty list to store the data from .rds files\n",
    "rds_data_list <- list()\n",
    "subfolder <- root_dir\n",
    "# Loop through each subfolder\n",
    "#for (subfolder in subfolders) {\n",
    "  \n",
    "  # Find all .rds files in the current subfolder\n",
    "  rds_files <- list.files(subfolder, pattern = \"\\\\.rds$\", full.names = TRUE)\n",
    "  rds_files\n",
    "  # If any .rds files are found, loop through them and read the data\n",
    "  if (length(rds_files) > 0) {\n",
    "    for (rds_file in rds_files) {\n",
    "      # Read the .rds file and append it to the rds_data_list\n",
    "      rds_data <- readRDS(rds_file)\n",
    "      rds_data_list[[file_path_sans_ext(rds_file)]] <- rds_data\n",
    "    }\n",
    "  }\n",
    "#}\n",
    "\n",
    "# The rds_data_list now contains data from all .rds files in the subfolders\n"
   ]
  },
  {
   "cell_type": "code",
   "execution_count": 20,
   "id": "617c9635-8348-46ba-8fe9-29dd40da4f8a",
   "metadata": {},
   "outputs": [],
   "source": [
    "#rds_data_list"
   ]
  },
  {
   "cell_type": "code",
   "execution_count": 4,
   "id": "394b5e25-6dd1-4b38-a567-6123db28116f",
   "metadata": {
    "tags": []
   },
   "outputs": [],
   "source": [
    "# Get more info from PMID\n",
    "get_reference_from_PMID <- function(pmid) {\n",
    "           if (!is.na(pmid) && !is.null(pmid)) {\n",
    "        url <- paste0(\"https://eutils.ncbi.nlm.nih.gov/entrez/eutils/esummary.fcgi?db=pubmed&retmode=json&version=2.0&id=\", pmid)\n",
    "        response <- GET(url)\n",
    "      \n",
    "        json <- content(response, as=\"text\")\n",
    "        json_data <- fromJSON(json)\n",
    "        titles=json_data$result[[2]]$title\n",
    "        authors=json_data$result[[2]]$sortfirstauthor\n",
    "        source = json_data$result[[2]]$source\n",
    "        volumn = json_data$result[[2]]$volume\n",
    "        pages = json_data$result[[2]]$pages\n",
    "        year = json_data$result[[2]]$pubdate\n",
    "        reference=paste0(authors,\". et al. \",titles,source,\" \",volumn,\",\",pages,\"(\",year,\")\")\n",
    "\n",
    "    }else{reference <- \"Not published\"}\n",
    "           \n",
    "    return(reference)\n",
    "    }"
   ]
  },
  {
   "cell_type": "code",
   "execution_count": 5,
   "id": "062c8da6-c8b5-47d4-9ea3-42538f09cc01",
   "metadata": {
    "tags": []
   },
   "outputs": [
    {
     "data": {
      "text/plain": [
       "$`RDS//SRP018414-Liver_SE`\n",
       "class: RangedSummarizedExperiment \n",
       "dim: 4966 3 \n",
       "metadata(10): PMID GEO_number ... Cell_line_tissue DNA_RNA_reps\n",
       "assays(1): ActivityScore\n",
       "rownames(4966): 2:210861483-210861650 2:210861483-210861650 ...\n",
       "  9:82902419-82902586 9:82902419-82902586\n",
       "rowData names(3): genome_build sequence genomic_note\n",
       "colnames(3): rep1 rep2 rep3\n",
       "colData names(5): REP SRP_ID sample_status replicate_status cell_lines\n",
       "\n",
       "$`RDS//SRP018414-Robin_Hepg2_SE`\n",
       "class: RangedSummarizedExperiment \n",
       "dim: 4966 3 \n",
       "metadata(10): PMID GEO_number ... Cell_line_tissue DNA_RNA_reps\n",
       "assays(1): ActivityScore\n",
       "rownames(4966): 2:210861483-210861650 2:210861483-210861650 ...\n",
       "  9:82902419-82902586 9:82902419-82902586\n",
       "rowData names(3): genome_build sequence genomic_note\n",
       "colnames(3): rep1 rep2 rep3\n",
       "colData names(5): REP SRP_ID sample_status replicate_status cell_lines\n",
       "\n",
       "$`RDS//SRP044727-Hela_SE`\n",
       "class: RangedSummarizedExperiment \n",
       "dim: 1665 1 \n",
       "metadata(10): PMID GEO_number ... Cell_line_tissue DNA_RNA_reps\n",
       "assays(1): ActivityScore\n",
       "rownames(1665): 11:121424499-121424500 11:121424499-121424500 ...\n",
       "  11:121425053-121425054 11:121425053-121425054\n",
       "rowData names(3): genome_build sequence genomic_note\n",
       "colnames(1): rep1\n",
       "colData names(5): REP SRP_ID sample_status replicate_status cell_lines\n",
       "\n",
       "$`RDS//SRP044727-Liver_SE`\n",
       "class: RangedSummarizedExperiment \n",
       "dim: 1665 1 \n",
       "metadata(10): PMID GEO_number ... Cell_line_tissue DNA_RNA_reps\n",
       "assays(1): ActivityScore\n",
       "rownames(1665): 11:121424499-121424500 11:121424499-121424500 ...\n",
       "  11:121425053-121425054 11:121425053-121425054\n",
       "rowData names(3): genome_build sequence genomic_note\n",
       "colnames(1): rep1\n",
       "colData names(5): REP SRP_ID sample_status replicate_status cell_lines\n"
      ]
     },
     "metadata": {},
     "output_type": "display_data"
    }
   ],
   "source": [
    "### read passed_files\n",
    "#passed_rds_files=readLines(\"../testthat/passed_files.txt\")\n",
    "passed_rds_files=rds_data_list\n",
    "passed_rds_files=as.list(passed_rds_files)\n",
    "head(passed_rds_files)"
   ]
  },
  {
   "cell_type": "code",
   "execution_count": 9,
   "id": "51315243-e7e5-4695-bdfe-7dd9f104d944",
   "metadata": {},
   "outputs": [
    {
     "data": {
      "text/plain": [
       "$`RDS//SRP018414-Liver_SE`\n",
       "class: RangedSummarizedExperiment \n",
       "dim: 4966 3 \n",
       "metadata(10): PMID GEO_number ... Cell_line_tissue DNA_RNA_reps\n",
       "assays(1): ActivityScore\n",
       "rownames(4966): 2:210861483-210861650 2:210861483-210861650 ...\n",
       "  9:82902419-82902586 9:82902419-82902586\n",
       "rowData names(3): genome_build sequence genomic_note\n",
       "colnames(3): rep1 rep2 rep3\n",
       "colData names(5): REP SRP_ID sample_status replicate_status cell_lines\n",
       "\n",
       "$`RDS//SRP018414-Robin_Hepg2_SE`\n",
       "class: RangedSummarizedExperiment \n",
       "dim: 4966 3 \n",
       "metadata(10): PMID GEO_number ... Cell_line_tissue DNA_RNA_reps\n",
       "assays(1): ActivityScore\n",
       "rownames(4966): 2:210861483-210861650 2:210861483-210861650 ...\n",
       "  9:82902419-82902586 9:82902419-82902586\n",
       "rowData names(3): genome_build sequence genomic_note\n",
       "colnames(3): rep1 rep2 rep3\n",
       "colData names(5): REP SRP_ID sample_status replicate_status cell_lines\n",
       "\n",
       "$`RDS//SRP044727-Hela_SE`\n",
       "class: RangedSummarizedExperiment \n",
       "dim: 1665 1 \n",
       "metadata(10): PMID GEO_number ... Cell_line_tissue DNA_RNA_reps\n",
       "assays(1): ActivityScore\n",
       "rownames(1665): 11:121424499-121424500 11:121424499-121424500 ...\n",
       "  11:121425053-121425054 11:121425053-121425054\n",
       "rowData names(3): genome_build sequence genomic_note\n",
       "colnames(1): rep1\n",
       "colData names(5): REP SRP_ID sample_status replicate_status cell_lines\n",
       "\n",
       "$`RDS//SRP044727-Liver_SE`\n",
       "class: RangedSummarizedExperiment \n",
       "dim: 1665 1 \n",
       "metadata(10): PMID GEO_number ... Cell_line_tissue DNA_RNA_reps\n",
       "assays(1): ActivityScore\n",
       "rownames(1665): 11:121424499-121424500 11:121424499-121424500 ...\n",
       "  11:121425053-121425054 11:121425053-121425054\n",
       "rowData names(3): genome_build sequence genomic_note\n",
       "colnames(1): rep1\n",
       "colData names(5): REP SRP_ID sample_status replicate_status cell_lines\n"
      ]
     },
     "metadata": {},
     "output_type": "display_data"
    }
   ],
   "source": [
    "passed_rds_files"
   ]
  },
  {
   "cell_type": "code",
   "execution_count": 10,
   "id": "20fceb7f-ff61-4b2c-a392-5e14bda20135",
   "metadata": {
    "tags": []
   },
   "outputs": [],
   "source": [
    "#pilot_list <- head(rds_data_list,n=2)\n",
    "pilot_list <- passed_rds_files\n",
    "#pilot_list <- passed_rds_files\n",
    "yaml_data_output <- list()\n",
    "yaml_initial_output <- list()\n",
    "pmid_list=list()\n",
    "for(i in 1:length(pilot_list)){\n",
    "    \n",
    "  if (i %% 3 == 0) {\n",
    "    # Introduce a 1-second delay\n",
    "    Sys.sleep(1)\n",
    "  }\n",
    "        \n",
    "        \n",
    "    my_string <- names(pilot_list[i])\n",
    "    new_string <- sub(\".*/\", \"###\", my_string)  # replace last / with ###\n",
    "    parts <- strsplit(new_string, \"###\")[[1]]  # split at ###\n",
    "    last_folder <- parts[2] \n",
    "  #last_folder=my_string\n",
    "    # sample meta data in info box\n",
    "    yaml_data_output[[i]] <- list(\n",
    "        \n",
    "        id = paste0('BFC',i),\n",
    "        uri = paste0('localhost://../../MPRAbase-Builder/', sub(\"\\\\./\", \"\", names(pilot_list[i])), \".rds\"),\n",
    "        #uri = paste0('localhost:')\n",
    "        \"title\" = last_folder,\n",
    "        # paste0('BFC',i), #metadata(pilot_list[[i]])$ENCODE_ID,\n",
    "        \n",
    "        \"provider\" = metadata(pilot_list[[i]])$labs,\n",
    "        \"contact\" = metadata(pilot_list[[i]])$labs,\n",
    "        \n",
    "        \"geo\" =  colData(pilot_list[[i]])$GEO_ID[[1]],\n",
    "        \"encode\" = metadata(pilot_list[[i]])$ENCODE_ID,\n",
    "        \"PMID\" = as.character(metadata(pilot_list[[i]])$PMID),\n",
    "        \n",
    "        \"Organism\" = metadata(pilot_list[[i]])$Organism,\n",
    "        \"LibraryType\" = metadata(pilot_list[[i]])$Library_strategy,\n",
    "        \n",
    "        \"ResourceName\" = metadata(pilot_list[[i]])$Cell_line_tissue,\n",
    "        \"SampleName\" = metadata(pilot_list[[i]])$sample_name,\n",
    "\n",
    "        \"description\" = \"In Development\",\n",
    "        \"reference\" = get_reference_from_PMID(metadata(pilot_list[[i]])$PMID)\n",
    "        \n",
    "        )\n",
    "     \n",
    "    yaml_initial_output[[i]] <- list(\n",
    "        id = paste0('config', i),\n",
    "        \"datasets\" = list(paste0('BFC',i)),\n",
    "        \"title\" = \"MPRA Secondary Analysis\",\n",
    "        \n",
    "        \"uri\" = \"localhost://../../MPRAbase-Builder/app-configs/analysis-secondary.R\",\n",
    "        \"description\" = \"Test `SampleAssay` panel for biological replicate correlation analysis.\") \n",
    "}\n",
    "\n",
    "\n",
    "yaml::write_yaml(list(datasets=yaml_data_output, initial=yaml_initial_output), \"MPRAbase-v0.1.3.yaml\")\n",
    "\n"
   ]
  },
  {
   "cell_type": "code",
   "execution_count": 36,
   "id": "9a6f552e-37a1-4a9a-a63f-2c351d0e0896",
   "metadata": {
    "tags": []
   },
   "outputs": [
    {
     "ename": "ERROR",
     "evalue": "Error in as.vector(x, mode = \"character\"): no method for coercing this S4 class to a vector\n",
     "output_type": "error",
     "traceback": [
      "Error in as.vector(x, mode = \"character\"): no method for coercing this S4 class to a vector\nTraceback:\n",
      "1. as.character(rds_file)",
      "2. as.character(rds_file)",
      "3. .local(x, ...)",
      "4. as.vector(x, mode = \"character\")"
     ]
    }
   ],
   "source": [
    "rds_data_list=list()\n",
    "#### read from passed list\n",
    "for (rds_file in passed_rds_files) {\n",
    "    my_string <- as.character(rds_file)\n",
    "    new_string <- sub(\".*/\", \"###\", my_string)  # replace last / with ###\n",
    "    parts <- strsplit(new_string, \"###\")[[1]]  # split at ###\n",
    "    last_folder <- parts[2] \n",
    "    path=paste0(as.character(rds_file),\".rds\")\n",
    "    print(path)\n",
    "    rds_data=readRDS(path)\n",
    "    \n",
    "    rds_data_list[[as.character(last_folder)]]<- rds_data\n",
    "}\n"
   ]
  },
  {
   "cell_type": "code",
   "execution_count": 26,
   "id": "2a835539-607b-434e-bb35-2a1f6da6c1ea",
   "metadata": {
    "tags": []
   },
   "outputs": [],
   "source": [
    "#rds_data_list"
   ]
  },
  {
   "cell_type": "code",
   "execution_count": 12,
   "id": "507056c3-eb35-476d-a6a7-a68b32509e76",
   "metadata": {
    "tags": []
   },
   "outputs": [],
   "source": [
    "\n",
    "pilot_list=rds_data_list\n",
    "\n",
    "yaml_data_output <- list()\n",
    "yaml_initial_output <- list()\n",
    "pmid_list=list()\n",
    "for(i in 1:length(pilot_list)){\n",
    "    \n",
    "  if (i %% 3 == 0) {\n",
    "    # Introduce a 1-second delay\n",
    "    Sys.sleep(1)\n",
    "  }\n",
    "\n",
    "    # sample meta data in info box\n",
    "    yaml_data_output[[i]] <- list(\n",
    "        \n",
    "        id = paste0('BFC',i),\n",
    "        uri = paste0('localhost://../../MPRAbase-Builder/data//', sub(\"\\\\./\", \"\", names(pilot_list[i])), \".rds\"),\n",
    "        \"title\" =  names(pilot_list[i]),\n",
    "        # paste0('BFC',i), #metadata(pilot_list[[i]])$ENCODE_ID,\n",
    "        \n",
    "        \"provider\" = metadata(pilot_list[[i]])$labs,\n",
    "        \"contact\" = metadata(pilot_list[[i]])$labs,\n",
    "        \n",
    "        \"geo\" =  colData(pilot_list[[i]])$GEO_ID[[1]],\n",
    "        \"encode\" = metadata(pilot_list[[i]])$ENCODE_ID,\n",
    "        \"PMID\" = as.character(metadata(pilot_list[[i]])$PMID),\n",
    "        \n",
    "        \"Organism\" = metadata(pilot_list[[i]])$Organism,\n",
    "        \"LibraryType\" = metadata(pilot_list[[i]])$Library_strategy,\n",
    "        \n",
    "        \"ResourceName\" = metadata(pilot_list[[i]])$Cell_line_tissue,\n",
    "        \"SampleName\" = metadata(pilot_list[[i]])$sample_name,\n",
    "\n",
    "        \"description\" = \"In Development\",\n",
    "        \"reference\" = get_reference_from_PMID(metadata(pilot_list[[i]])$PMID)\n",
    "        )\n",
    "     \n",
    "    yaml_initial_output[[i]] <- list(\n",
    "        id = paste0('config', i),\n",
    "        \"datasets\" = list(paste0('BFC',i)),\n",
    "        \"title\" = \"MPRA Secondary Analysis\",\n",
    "        \"uri\" = \"localhost://../configs/analysis-secondary.R\",\n",
    "        \"description\" = \"Test `SampleAssay` panel for biological replicate correlation analysis.\") \n",
    "}\n",
    "\n",
    "\n",
    "yaml::write_yaml(list(datasets=yaml_data_output, initial=yaml_initial_output), \"MPRAbase-v0.1.8-passed.yaml\")\n"
   ]
  },
  {
   "cell_type": "code",
   "execution_count": 11,
   "id": "3a72f9fb-da64-43cc-ac6e-69798f79b92e",
   "metadata": {
    "tags": []
   },
   "outputs": [],
   "source": [
    "\n",
    "# Read the YAML file as character lines\n",
    "file_lines <- readLines(\"MPRAbase-v0.1.3.yaml\")\n",
    "\n",
    "# Remove single quotes and ~ from each line\n",
    "modified_lines <- gsub(\"'\", \"\", file_lines)\n",
    "modified_lines <- gsub(\"~\", \"Not found\", modified_lines)\n",
    "modified_lines <- gsub(\"\\\\[|\\\\]\", \"Not found\", modified_lines)\n",
    "modified_lines <- gsub(\"Not foundNot found\", \"Not found\", modified_lines)\n",
    "modified_lines <- gsub(\"Not foundNot found\", \"Not found\", modified_lines)\n",
    "\n",
    "#modified_lines <- gsub(\"dataRDS\", \"data/RDS\", modified_lines)\n",
    "\n",
    "# Write the modified contents back to the file\n",
    "writeLines(modified_lines, \"MPRAbase-v0.1.3.yaml\")\n"
   ]
  },
  {
   "cell_type": "code",
   "execution_count": null,
   "id": "e992c92f-becc-4860-9c3c-ede2c6b57e6d",
   "metadata": {},
   "outputs": [],
   "source": []
  },
  {
   "cell_type": "code",
   "execution_count": null,
   "id": "349c1ce9-9f6e-41ba-a2e6-6cdd8db5fbf5",
   "metadata": {},
   "outputs": [],
   "source": []
  }
 ],
 "metadata": {
  "kernelspec": {
   "display_name": "R",
   "language": "R",
   "name": "ir"
  },
  "language_info": {
   "codemirror_mode": "r",
   "file_extension": ".r",
   "mimetype": "text/x-r-source",
   "name": "R",
   "pygments_lexer": "r",
   "version": "4.2.3"
  }
 },
 "nbformat": 4,
 "nbformat_minor": 5
}
