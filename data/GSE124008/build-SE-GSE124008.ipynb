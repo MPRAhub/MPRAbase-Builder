{
 "cells": [
  {
   "cell_type": "code",
   "execution_count": 1,
   "id": "178088df-64f7-452d-98cb-642940ad8d0a",
   "metadata": {
    "tags": []
   },
   "outputs": [
    {
     "name": "stderr",
     "output_type": "stream",
     "text": [
      "Warning message:\n",
      "“package ‘dplyr’ was built under R version 4.2.3”\n",
      "\n",
      "Attaching package: ‘dplyr’\n",
      "\n",
      "\n",
      "The following objects are masked from ‘package:stats’:\n",
      "\n",
      "    filter, lag\n",
      "\n",
      "\n",
      "The following objects are masked from ‘package:base’:\n",
      "\n",
      "    intersect, setdiff, setequal, union\n",
      "\n",
      "\n",
      "------------------------------------------------------------------------------\n",
      "\n",
      "You have loaded plyr after dplyr - this is likely to cause problems.\n",
      "If you need functions from both plyr and dplyr, please load plyr first, then dplyr:\n",
      "library(plyr); library(dplyr)\n",
      "\n",
      "------------------------------------------------------------------------------\n",
      "\n",
      "\n",
      "Attaching package: ‘plyr’\n",
      "\n",
      "\n",
      "The following objects are masked from ‘package:dplyr’:\n",
      "\n",
      "    arrange, count, desc, failwith, id, mutate, rename, summarise,\n",
      "    summarize\n",
      "\n",
      "\n",
      "Loading required package: SummarizedExperiment\n",
      "\n",
      "Loading required package: MatrixGenerics\n",
      "\n",
      "Loading required package: matrixStats\n",
      "\n",
      "\n",
      "Attaching package: ‘matrixStats’\n",
      "\n",
      "\n",
      "The following object is masked from ‘package:plyr’:\n",
      "\n",
      "    count\n",
      "\n",
      "\n",
      "The following object is masked from ‘package:dplyr’:\n",
      "\n",
      "    count\n",
      "\n",
      "\n",
      "\n",
      "Attaching package: ‘MatrixGenerics’\n",
      "\n",
      "\n",
      "The following objects are masked from ‘package:matrixStats’:\n",
      "\n",
      "    colAlls, colAnyNAs, colAnys, colAvgsPerRowSet, colCollapse,\n",
      "    colCounts, colCummaxs, colCummins, colCumprods, colCumsums,\n",
      "    colDiffs, colIQRDiffs, colIQRs, colLogSumExps, colMadDiffs,\n",
      "    colMads, colMaxs, colMeans2, colMedians, colMins, colOrderStats,\n",
      "    colProds, colQuantiles, colRanges, colRanks, colSdDiffs, colSds,\n",
      "    colSums2, colTabulates, colVarDiffs, colVars, colWeightedMads,\n",
      "    colWeightedMeans, colWeightedMedians, colWeightedSds,\n",
      "    colWeightedVars, rowAlls, rowAnyNAs, rowAnys, rowAvgsPerColSet,\n",
      "    rowCollapse, rowCounts, rowCummaxs, rowCummins, rowCumprods,\n",
      "    rowCumsums, rowDiffs, rowIQRDiffs, rowIQRs, rowLogSumExps,\n",
      "    rowMadDiffs, rowMads, rowMaxs, rowMeans2, rowMedians, rowMins,\n",
      "    rowOrderStats, rowProds, rowQuantiles, rowRanges, rowRanks,\n",
      "    rowSdDiffs, rowSds, rowSums2, rowTabulates, rowVarDiffs, rowVars,\n",
      "    rowWeightedMads, rowWeightedMeans, rowWeightedMedians,\n",
      "    rowWeightedSds, rowWeightedVars\n",
      "\n",
      "\n",
      "Loading required package: GenomicRanges\n",
      "\n",
      "Loading required package: stats4\n",
      "\n",
      "Loading required package: BiocGenerics\n",
      "\n",
      "\n",
      "Attaching package: ‘BiocGenerics’\n",
      "\n",
      "\n",
      "The following objects are masked from ‘package:dplyr’:\n",
      "\n",
      "    combine, intersect, setdiff, union\n",
      "\n",
      "\n",
      "The following objects are masked from ‘package:stats’:\n",
      "\n",
      "    IQR, mad, sd, var, xtabs\n",
      "\n",
      "\n",
      "The following objects are masked from ‘package:base’:\n",
      "\n",
      "    anyDuplicated, aperm, append, as.data.frame, basename, cbind,\n",
      "    colnames, dirname, do.call, duplicated, eval, evalq, Filter, Find,\n",
      "    get, grep, grepl, intersect, is.unsorted, lapply, Map, mapply,\n",
      "    match, mget, order, paste, pmax, pmax.int, pmin, pmin.int,\n",
      "    Position, rank, rbind, Reduce, rownames, sapply, setdiff, sort,\n",
      "    table, tapply, union, unique, unsplit, which.max, which.min\n",
      "\n",
      "\n",
      "Loading required package: S4Vectors\n",
      "\n",
      "\n",
      "Attaching package: ‘S4Vectors’\n",
      "\n",
      "\n",
      "The following object is masked from ‘package:plyr’:\n",
      "\n",
      "    rename\n",
      "\n",
      "\n",
      "The following object is masked from ‘package:tidyr’:\n",
      "\n",
      "    expand\n",
      "\n",
      "\n",
      "The following objects are masked from ‘package:dplyr’:\n",
      "\n",
      "    first, rename\n",
      "\n",
      "\n",
      "The following objects are masked from ‘package:base’:\n",
      "\n",
      "    expand.grid, I, unname\n",
      "\n",
      "\n",
      "Loading required package: IRanges\n",
      "\n",
      "\n",
      "Attaching package: ‘IRanges’\n",
      "\n",
      "\n",
      "The following object is masked from ‘package:plyr’:\n",
      "\n",
      "    desc\n",
      "\n",
      "\n",
      "The following objects are masked from ‘package:dplyr’:\n",
      "\n",
      "    collapse, desc, slice\n",
      "\n",
      "\n",
      "Loading required package: GenomeInfoDb\n",
      "\n",
      "Loading required package: Biobase\n",
      "\n",
      "Welcome to Bioconductor\n",
      "\n",
      "    Vignettes contain introductory material; view with\n",
      "    'browseVignettes()'. To cite Bioconductor, see\n",
      "    'citation(\"Biobase\")', and for packages 'citation(\"pkgname\")'.\n",
      "\n",
      "\n",
      "\n",
      "Attaching package: ‘Biobase’\n",
      "\n",
      "\n",
      "The following object is masked from ‘package:MatrixGenerics’:\n",
      "\n",
      "    rowMedians\n",
      "\n",
      "\n",
      "The following objects are masked from ‘package:matrixStats’:\n",
      "\n",
      "    anyMissing, rowMedians\n",
      "\n",
      "\n",
      "Loading required package: SingleCellExperiment\n",
      "\n"
     ]
    }
   ],
   "source": [
    "library(dplyr)\n",
    "library(tidyr)\n",
    "library(plyr)\n",
    "library(iSEE)\n",
    "library(GenomicRanges)\n",
    "library(MultiAssayExperiment)\n",
    "library(SummarizedExperiment)"
   ]
  },
  {
   "cell_type": "markdown",
   "id": "63f139db-0408-4519-a94f-b2c44e85179f",
   "metadata": {},
   "source": [
    "## Import Data"
   ]
  },
  {
   "cell_type": "code",
   "execution_count": 2,
   "id": "231d2e2d-9914-402f-916b-7cd13b0d51cd",
   "metadata": {
    "tags": []
   },
   "outputs": [],
   "source": [
    "df <- read.csv('fig-4g.tsv', sep='\\t')"
   ]
  },
  {
   "cell_type": "code",
   "execution_count": 3,
   "id": "69f6c729-cac5-44ec-a859-da6dfbb81866",
   "metadata": {
    "tags": []
   },
   "outputs": [
    {
     "data": {
      "text/html": [
       "<table class=\"dataframe\">\n",
       "<caption>A data.frame: 6 × 6</caption>\n",
       "<thead>\n",
       "\t<tr><th></th><th scope=col>Group</th><th scope=col>ID</th><th scope=col>DNA.average</th><th scope=col>DNA.rank</th><th scope=col>RNA.average</th><th scope=col>RNA.DNA.average</th></tr>\n",
       "\t<tr><th></th><th scope=col>&lt;chr&gt;</th><th scope=col>&lt;int&gt;</th><th scope=col>&lt;dbl&gt;</th><th scope=col>&lt;int&gt;</th><th scope=col>&lt;dbl&gt;</th><th scope=col>&lt;dbl&gt;</th></tr>\n",
       "</thead>\n",
       "<tbody>\n",
       "\t<tr><th scope=row>1</th><td>BNA_TF_H3K27ac</td><td>1243</td><td> 409.1824</td><td> 197</td><td> 745.1271</td><td>1.8210143</td></tr>\n",
       "\t<tr><th scope=row>2</th><td>BNA_TF_H3K27ac</td><td> 870</td><td> 364.0982</td><td>  83</td><td>1075.5732</td><td>2.9540741</td></tr>\n",
       "\t<tr><th scope=row>3</th><td>BNA_TF_H3K27ac</td><td>1088</td><td>2077.3091</td><td> 606</td><td>1360.1459</td><td>0.6547633</td></tr>\n",
       "\t<tr><th scope=row>4</th><td>BNA_TF_H3K27ac</td><td> 792</td><td> 650.6394</td><td>1469</td><td> 166.0715</td><td>0.2552435</td></tr>\n",
       "\t<tr><th scope=row>5</th><td>BNA_TF_H3K27ac</td><td> 837</td><td>2032.0055</td><td> 412</td><td>1920.5287</td><td>0.9451395</td></tr>\n",
       "\t<tr><th scope=row>6</th><td>BNA_TF_H3K27ac</td><td>1124</td><td>2094.0144</td><td>  37</td><td>8243.8435</td><td>3.9368609</td></tr>\n",
       "</tbody>\n",
       "</table>\n"
      ],
      "text/latex": [
       "A data.frame: 6 × 6\n",
       "\\begin{tabular}{r|llllll}\n",
       "  & Group & ID & DNA.average & DNA.rank & RNA.average & RNA.DNA.average\\\\\n",
       "  & <chr> & <int> & <dbl> & <int> & <dbl> & <dbl>\\\\\n",
       "\\hline\n",
       "\t1 & BNA\\_TF\\_H3K27ac & 1243 &  409.1824 &  197 &  745.1271 & 1.8210143\\\\\n",
       "\t2 & BNA\\_TF\\_H3K27ac &  870 &  364.0982 &   83 & 1075.5732 & 2.9540741\\\\\n",
       "\t3 & BNA\\_TF\\_H3K27ac & 1088 & 2077.3091 &  606 & 1360.1459 & 0.6547633\\\\\n",
       "\t4 & BNA\\_TF\\_H3K27ac &  792 &  650.6394 & 1469 &  166.0715 & 0.2552435\\\\\n",
       "\t5 & BNA\\_TF\\_H3K27ac &  837 & 2032.0055 &  412 & 1920.5287 & 0.9451395\\\\\n",
       "\t6 & BNA\\_TF\\_H3K27ac & 1124 & 2094.0144 &   37 & 8243.8435 & 3.9368609\\\\\n",
       "\\end{tabular}\n"
      ],
      "text/markdown": [
       "\n",
       "A data.frame: 6 × 6\n",
       "\n",
       "| <!--/--> | Group &lt;chr&gt; | ID &lt;int&gt; | DNA.average &lt;dbl&gt; | DNA.rank &lt;int&gt; | RNA.average &lt;dbl&gt; | RNA.DNA.average &lt;dbl&gt; |\n",
       "|---|---|---|---|---|---|---|\n",
       "| 1 | BNA_TF_H3K27ac | 1243 |  409.1824 |  197 |  745.1271 | 1.8210143 |\n",
       "| 2 | BNA_TF_H3K27ac |  870 |  364.0982 |   83 | 1075.5732 | 2.9540741 |\n",
       "| 3 | BNA_TF_H3K27ac | 1088 | 2077.3091 |  606 | 1360.1459 | 0.6547633 |\n",
       "| 4 | BNA_TF_H3K27ac |  792 |  650.6394 | 1469 |  166.0715 | 0.2552435 |\n",
       "| 5 | BNA_TF_H3K27ac |  837 | 2032.0055 |  412 | 1920.5287 | 0.9451395 |\n",
       "| 6 | BNA_TF_H3K27ac | 1124 | 2094.0144 |   37 | 8243.8435 | 3.9368609 |\n",
       "\n"
      ],
      "text/plain": [
       "  Group          ID   DNA.average DNA.rank RNA.average RNA.DNA.average\n",
       "1 BNA_TF_H3K27ac 1243  409.1824    197      745.1271   1.8210143      \n",
       "2 BNA_TF_H3K27ac  870  364.0982     83     1075.5732   2.9540741      \n",
       "3 BNA_TF_H3K27ac 1088 2077.3091    606     1360.1459   0.6547633      \n",
       "4 BNA_TF_H3K27ac  792  650.6394   1469      166.0715   0.2552435      \n",
       "5 BNA_TF_H3K27ac  837 2032.0055    412     1920.5287   0.9451395      \n",
       "6 BNA_TF_H3K27ac 1124 2094.0144     37     8243.8435   3.9368609      "
      ]
     },
     "metadata": {},
     "output_type": "display_data"
    }
   ],
   "source": [
    "head(df[,c('Group','ID','DNA.average','DNA.rank','RNA.average','RNA.DNA.average')])"
   ]
  },
  {
   "cell_type": "code",
   "execution_count": 5,
   "id": "c2233cbf-1f51-4301-ae62-7a499cb12b2b",
   "metadata": {
    "tags": []
   },
   "outputs": [
    {
     "data": {
      "text/plain": [
       "\n",
       "   BNA_H3K27ac         BNA_TF BNA_TF_H3K27ac             ES       negative \n",
       "           218             99            538            947            180 "
      ]
     },
     "metadata": {},
     "output_type": "display_data"
    }
   ],
   "source": [
    "table(df$Group)"
   ]
  },
  {
   "cell_type": "markdown",
   "id": "71fe2ce6-0875-45ca-8cfc-22f65841b003",
   "metadata": {},
   "source": [
    "## Construct Summarized Experiment Container Object"
   ]
  },
  {
   "cell_type": "markdown",
   "id": "fd7eef48-36cc-41df-b950-9e39518af41c",
   "metadata": {},
   "source": [
    "### colData"
   ]
  },
  {
   "cell_type": "code",
   "execution_count": 6,
   "id": "d09f3950-d792-4359-aafd-563799de3732",
   "metadata": {
    "tags": []
   },
   "outputs": [],
   "source": [
    "colData <- data.frame(unique(df$Group))\n",
    "colnames(colData) <- 'sample'\n",
    "row.names(colData) <- colData$sample"
   ]
  },
  {
   "cell_type": "markdown",
   "id": "7b5759b9-4808-4dc3-9739-e9b68c9349e7",
   "metadata": {},
   "source": [
    "### rowRanges"
   ]
  },
  {
   "cell_type": "code",
   "execution_count": 7,
   "id": "07acc7aa-2e66-4c0c-92a3-68c10060ddb9",
   "metadata": {
    "tags": []
   },
   "outputs": [],
   "source": [
    "#' Wrangle MPRA rowRange data for constructing a Summarized Experiment object\n",
    "#'\n",
    "#' @param df_group_list A list of dataframes split by a user defined group\n",
    "#' @export\n",
    "#' @example\n",
    "wrangle.mpra.rowRange.data <- function(df_group_list){\n",
    "    # Iterate over user defined groups to subset genomic ranges/intervals\n",
    "    rowRange_list <- list()\n",
    "    for (group in names(df_group_list)){\n",
    "        rowRange_n_group_df <- makeGRangesFromDataFrame(data.frame(df_group_list[[group]][,c('chr','start','end')]))\n",
    "        rowRange_n_group_df$sample <- group\n",
    "        rowRange_list[[group]] <-rowRange_n_group_df\n",
    "    }\n",
    "    return(rowRange_list)    \n",
    "}"
   ]
  },
  {
   "cell_type": "code",
   "execution_count": 8,
   "id": "93813dcc-5275-4bf9-a1b1-c877570586d3",
   "metadata": {
    "tags": []
   },
   "outputs": [],
   "source": [
    "df_group_list <- split(df, df$Group)\n",
    "rowRange_list <- wrangle.mpra.rowRange.data(df_group_list)"
   ]
  },
  {
   "cell_type": "code",
   "execution_count": 9,
   "id": "ebe6eaca-9c9b-4eaf-af66-89a07171ad61",
   "metadata": {
    "tags": []
   },
   "outputs": [
    {
     "data": {
      "text/html": [
       "<style>\n",
       ".list-inline {list-style: none; margin:0; padding: 0}\n",
       ".list-inline>li {display: inline-block}\n",
       ".list-inline>li:not(:last-child)::after {content: \"\\00b7\"; padding: 0 .5ex}\n",
       "</style>\n",
       "<ol class=list-inline><li>chr10</li><li>chr11</li><li>chr18</li><li>chr19</li><li>chr2</li><li>chr4</li><li>chr5</li><li>chr7</li><li>chr9</li><li>chr10</li><li>chr11</li><li>chr1</li><li>chr11</li><li>chr1</li><li>chr11</li><li>chr1</li><li>chr11</li><li>chr1</li><li>chr11</li><li>chr1</li><li>chr12</li><li>chr13</li><li>chr14</li><li>chr1</li><li>chr14</li><li>chr15</li><li>chr16</li><li>chr17</li><li>chr1</li><li>chr17</li><li>chr1</li><li>chr17</li><li>chr1</li><li>chr18</li><li>chr1</li><li>chr18</li><li>chr1</li><li>chr18</li><li>chr19</li><li>chr1</li><li>chr19</li><li>chr2</li><li>chr3</li><li>chr4</li><li>chr5</li><li>chr6</li><li>chr7</li><li>chr8</li><li>chr9</li><li>chr12</li><li>chr13</li><li>chr14</li><li>chr2</li><li>chr5</li><li>chr6</li></ol>\n",
       "\n",
       "<details>\n",
       "\t<summary style=display:list-item;cursor:pointer>\n",
       "\t\t<strong>Levels</strong>:\n",
       "\t</summary>\n",
       "\t<style>\n",
       "\t.list-inline {list-style: none; margin:0; padding: 0}\n",
       "\t.list-inline>li {display: inline-block}\n",
       "\t.list-inline>li:not(:last-child)::after {content: \"\\00b7\"; padding: 0 .5ex}\n",
       "\t</style>\n",
       "\t<ol class=list-inline><li>'chr1'</li><li>'chr2'</li><li>'chr3'</li><li>'chr4'</li><li>'chr5'</li><li>'chr6'</li><li>'chr7'</li><li>'chr8'</li><li>'chr9'</li><li>'chr10'</li><li>'chr11'</li><li>'chr12'</li><li>'chr13'</li><li>'chr14'</li><li>'chr15'</li><li>'chr16'</li><li>'chr17'</li><li>'chr18'</li><li>'chr19'</li></ol>\n",
       "</details>"
      ],
      "text/latex": [
       "\\begin{enumerate*}\n",
       "\\item chr10\n",
       "\\item chr11\n",
       "\\item chr18\n",
       "\\item chr19\n",
       "\\item chr2\n",
       "\\item chr4\n",
       "\\item chr5\n",
       "\\item chr7\n",
       "\\item chr9\n",
       "\\item chr10\n",
       "\\item chr11\n",
       "\\item chr1\n",
       "\\item chr11\n",
       "\\item chr1\n",
       "\\item chr11\n",
       "\\item chr1\n",
       "\\item chr11\n",
       "\\item chr1\n",
       "\\item chr11\n",
       "\\item chr1\n",
       "\\item chr12\n",
       "\\item chr13\n",
       "\\item chr14\n",
       "\\item chr1\n",
       "\\item chr14\n",
       "\\item chr15\n",
       "\\item chr16\n",
       "\\item chr17\n",
       "\\item chr1\n",
       "\\item chr17\n",
       "\\item chr1\n",
       "\\item chr17\n",
       "\\item chr1\n",
       "\\item chr18\n",
       "\\item chr1\n",
       "\\item chr18\n",
       "\\item chr1\n",
       "\\item chr18\n",
       "\\item chr19\n",
       "\\item chr1\n",
       "\\item chr19\n",
       "\\item chr2\n",
       "\\item chr3\n",
       "\\item chr4\n",
       "\\item chr5\n",
       "\\item chr6\n",
       "\\item chr7\n",
       "\\item chr8\n",
       "\\item chr9\n",
       "\\item chr12\n",
       "\\item chr13\n",
       "\\item chr14\n",
       "\\item chr2\n",
       "\\item chr5\n",
       "\\item chr6\n",
       "\\end{enumerate*}\n",
       "\n",
       "\\emph{Levels}: \\begin{enumerate*}\n",
       "\\item 'chr1'\n",
       "\\item 'chr2'\n",
       "\\item 'chr3'\n",
       "\\item 'chr4'\n",
       "\\item 'chr5'\n",
       "\\item 'chr6'\n",
       "\\item 'chr7'\n",
       "\\item 'chr8'\n",
       "\\item 'chr9'\n",
       "\\item 'chr10'\n",
       "\\item 'chr11'\n",
       "\\item 'chr12'\n",
       "\\item 'chr13'\n",
       "\\item 'chr14'\n",
       "\\item 'chr15'\n",
       "\\item 'chr16'\n",
       "\\item 'chr17'\n",
       "\\item 'chr18'\n",
       "\\item 'chr19'\n",
       "\\end{enumerate*}\n"
      ],
      "text/markdown": [
       "1. chr10\n",
       "2. chr11\n",
       "3. chr18\n",
       "4. chr19\n",
       "5. chr2\n",
       "6. chr4\n",
       "7. chr5\n",
       "8. chr7\n",
       "9. chr9\n",
       "10. chr10\n",
       "11. chr11\n",
       "12. chr1\n",
       "13. chr11\n",
       "14. chr1\n",
       "15. chr11\n",
       "16. chr1\n",
       "17. chr11\n",
       "18. chr1\n",
       "19. chr11\n",
       "20. chr1\n",
       "21. chr12\n",
       "22. chr13\n",
       "23. chr14\n",
       "24. chr1\n",
       "25. chr14\n",
       "26. chr15\n",
       "27. chr16\n",
       "28. chr17\n",
       "29. chr1\n",
       "30. chr17\n",
       "31. chr1\n",
       "32. chr17\n",
       "33. chr1\n",
       "34. chr18\n",
       "35. chr1\n",
       "36. chr18\n",
       "37. chr1\n",
       "38. chr18\n",
       "39. chr19\n",
       "40. chr1\n",
       "41. chr19\n",
       "42. chr2\n",
       "43. chr3\n",
       "44. chr4\n",
       "45. chr5\n",
       "46. chr6\n",
       "47. chr7\n",
       "48. chr8\n",
       "49. chr9\n",
       "50. chr12\n",
       "51. chr13\n",
       "52. chr14\n",
       "53. chr2\n",
       "54. chr5\n",
       "55. chr6\n",
       "\n",
       "\n",
       "\n",
       "**Levels**: 1. 'chr1'\n",
       "2. 'chr2'\n",
       "3. 'chr3'\n",
       "4. 'chr4'\n",
       "5. 'chr5'\n",
       "6. 'chr6'\n",
       "7. 'chr7'\n",
       "8. 'chr8'\n",
       "9. 'chr9'\n",
       "10. 'chr10'\n",
       "11. 'chr11'\n",
       "12. 'chr12'\n",
       "13. 'chr13'\n",
       "14. 'chr14'\n",
       "15. 'chr15'\n",
       "16. 'chr16'\n",
       "17. 'chr17'\n",
       "18. 'chr18'\n",
       "19. 'chr19'\n",
       "\n",
       "\n"
      ],
      "text/plain": [
       " [1] chr10 chr11 chr18 chr19 chr2  chr4  chr5  chr7  chr9  chr10 chr11 chr1 \n",
       "[13] chr11 chr1  chr11 chr1  chr11 chr1  chr11 chr1  chr12 chr13 chr14 chr1 \n",
       "[25] chr14 chr15 chr16 chr17 chr1  chr17 chr1  chr17 chr1  chr18 chr1  chr18\n",
       "[37] chr1  chr18 chr19 chr1  chr19 chr2  chr3  chr4  chr5  chr6  chr7  chr8 \n",
       "[49] chr9  chr12 chr13 chr14 chr2  chr5  chr6 \n",
       "19 Levels: chr1 chr2 chr3 chr4 chr5 chr6 chr7 chr8 chr9 chr10 chr11 ... chr19"
      ]
     },
     "metadata": {},
     "output_type": "display_data"
    }
   ],
   "source": [
    "rowRange_list$BNA_H3K27ac@seqnames@values"
   ]
  },
  {
   "cell_type": "code",
   "execution_count": 10,
   "id": "b8f9c584-5670-493a-bba9-1337e545a7ce",
   "metadata": {
    "tags": []
   },
   "outputs": [],
   "source": [
    "row.names(rowRange_list$BNA_H3K27ac)"
   ]
  },
  {
   "cell_type": "markdown",
   "id": "d10f580f-15fd-4f78-9272-2f4a0ea2e900",
   "metadata": {},
   "source": [
    "### Assays"
   ]
  },
  {
   "cell_type": "code",
   "execution_count": 11,
   "id": "23587604-66e0-4b98-b02e-d5505e3d3a98",
   "metadata": {
    "tags": []
   },
   "outputs": [],
   "source": [
    "#' Wrangle MPRA assay data for constructing a Summarized Experiment object\n",
    "#'\n",
    "#' @param df_group_list A list of dataframes split by a user defined group\n",
    "#' @param assay_type A column (string) identifier for subsetting the MPRA assay type\n",
    "#' @export \n",
    "wrangle.mpra.assay.data <- function(df_group_list, assay_type){\n",
    "    \n",
    "    # Iterate over user defined groups to create assay matrices specified by the user\n",
    "    assay_list <- list()\n",
    "    for (group in names(df_group_list)){\n",
    "        assay_n_group_df <- data.frame(df_group_list[[group]][assay_type])\n",
    "        colnames(assay_n_group_df) <- group\n",
    "        assay_list <- append(assay_list,assay_n_group_df)\n",
    "    }\n",
    "    \n",
    "    # Combine user defined groups into one matrix (fills missing values with NA)\n",
    "    assay_df <- t(plyr::ldply(assay_list, rbind))    \n",
    "    rownames(assay_df) <- NULL\n",
    "    colnames(assay_df) <- assay_df[1,]\n",
    "    assay_df <- assay_df[-1,]\n",
    "    \n",
    "    return(assay_df)    \n",
    "}\n",
    "\n"
   ]
  },
  {
   "cell_type": "code",
   "execution_count": 12,
   "id": "9ddc1b5b-0fcf-4a3e-91b2-812cd2b5edf7",
   "metadata": {
    "tags": []
   },
   "outputs": [],
   "source": [
    "df_group_list <- split(df, df$Group)"
   ]
  },
  {
   "cell_type": "code",
   "execution_count": 13,
   "id": "0c1b4fd4-c547-4236-b759-19e16594bd43",
   "metadata": {
    "tags": []
   },
   "outputs": [],
   "source": [
    "assay_dna.avg_mtx <- wrangle.mpra.assay.data(df_group_list, 'DNA.average')\n",
    "assay_rna.avg_mtx <- wrangle.mpra.assay.data(df_group_list, 'RNA.average')\n",
    "assay_rna_dna.avg_mtx <- wrangle.mpra.assay.data(df_group_list, 'RNA.DNA.average')"
   ]
  },
  {
   "cell_type": "markdown",
   "id": "ef98f2a9-1bba-4783-a062-71a29e360e5f",
   "metadata": {},
   "source": [
    "### Assemble Summarized Experiment"
   ]
  },
  {
   "cell_type": "code",
   "execution_count": 14,
   "id": "085791f3-9489-4ef4-8d04-a5bb11aebc81",
   "metadata": {
    "tags": []
   },
   "outputs": [],
   "source": [
    "se_list <- list()\n",
    "for (sample in colData$sample){\n",
    "    \n",
    "    ### Assay ###\n",
    "    # DNA.avg\n",
    "    assay_subset_dna.avg_mtx <- data.frame(assay_dna.avg_mtx[,sample])\n",
    "    colnames(assay_subset_dna.avg_mtx) <- sample\n",
    "    assay_subset_dna.avg_mtx <- as.data.frame(drop_na(assay_subset_dna.avg_mtx))\n",
    "    \n",
    "    # RNA.avg\n",
    "    assay_subset_rna.avg_mtx <- data.frame(assay_rna.avg_mtx[,sample])\n",
    "    colnames(assay_subset_rna.avg_mtx) <- sample\n",
    "    assay_subset_rna.avg_mtx <- as.data.frame(drop_na(assay_subset_rna.avg_mtx))\n",
    "    \n",
    "    # RNA_DNA.avg\n",
    "    assay_subset_rna_dna.avg_mtx <- data.frame(assay_rna_dna.avg_mtx[,sample])\n",
    "    colnames(assay_subset_rna_dna.avg_mtx) <- sample\n",
    "    assay_subset_rna_dna.avg_mtx <- as.data.frame(drop_na(assay_subset_rna_dna.avg_mtx))\n",
    "    \n",
    "    ### rowRanges ###\n",
    "    rowRanges = rowRange_list[sample][[1]]\n",
    "    names(rowRanges) <- rownames(assay_subset_dna.avg_mtx)\n",
    "\n",
    "\n",
    "    ### colData ###\n",
    "    colData_subset <- data.frame(sample=sample)\n",
    "    \n",
    "    se <- SummarizedExperiment(assays=list(dna.avg=assay_subset_dna.avg_mtx,\n",
    "                                           rna.avg=assay_subset_rna.avg_mtx,\n",
    "                                           rna_dna.avg = assay_subset_rna_dna.avg_mtx),\n",
    "                               rowRanges=rowRanges,\n",
    "                               colData=colData_subset)\n",
    "    se_list[[sample]] <- se\n",
    "}"
   ]
  },
  {
   "cell_type": "code",
   "execution_count": 15,
   "id": "2384d61a-fa7e-43e8-8548-22373d9ed268",
   "metadata": {
    "tags": []
   },
   "outputs": [
    {
     "data": {
      "text/plain": [
       "$BNA_TF_H3K27ac\n",
       "class: RangedSummarizedExperiment \n",
       "dim: 538 1 \n",
       "metadata(0):\n",
       "assays(3): dna.avg rna.avg rna_dna.avg\n",
       "rownames(538): 1 2 ... 537 538\n",
       "rowData names(1): sample\n",
       "colnames(1): BNA_TF_H3K27ac\n",
       "colData names(1): sample\n",
       "\n",
       "$BNA_TF\n",
       "class: RangedSummarizedExperiment \n",
       "dim: 99 1 \n",
       "metadata(0):\n",
       "assays(3): dna.avg rna.avg rna_dna.avg\n",
       "rownames(99): 1 2 ... 98 99\n",
       "rowData names(1): sample\n",
       "colnames(1): BNA_TF\n",
       "colData names(1): sample\n",
       "\n",
       "$BNA_H3K27ac\n",
       "class: RangedSummarizedExperiment \n",
       "dim: 218 1 \n",
       "metadata(0):\n",
       "assays(3): dna.avg rna.avg rna_dna.avg\n",
       "rownames(218): 1 2 ... 217 218\n",
       "rowData names(1): sample\n",
       "colnames(1): BNA_H3K27ac\n",
       "colData names(1): sample\n",
       "\n",
       "$negative\n",
       "class: RangedSummarizedExperiment \n",
       "dim: 180 1 \n",
       "metadata(0):\n",
       "assays(3): dna.avg rna.avg rna_dna.avg\n",
       "rownames(180): 1 2 ... 179 180\n",
       "rowData names(1): sample\n",
       "colnames(1): negative\n",
       "colData names(1): sample\n",
       "\n",
       "$ES\n",
       "class: RangedSummarizedExperiment \n",
       "dim: 947 1 \n",
       "metadata(0):\n",
       "assays(3): dna.avg rna.avg rna_dna.avg\n",
       "rownames(947): 1 2 ... 946 947\n",
       "rowData names(1): sample\n",
       "colnames(1): ES\n",
       "colData names(1): sample\n"
      ]
     },
     "metadata": {},
     "output_type": "display_data"
    }
   ],
   "source": [
    "se_list"
   ]
  },
  {
   "cell_type": "code",
   "execution_count": 27,
   "id": "cf8fec45-850d-4e99-b811-44e897a5c06c",
   "metadata": {
    "tags": []
   },
   "outputs": [
    {
     "name": "stderr",
     "output_type": "stream",
     "text": [
      "The `name` provided ('') does not correspond to a known icon\n",
      "\n",
      "The `name` provided ('') does not correspond to a known icon\n",
      "\n",
      "The `name` provided ('') does not correspond to a known icon\n",
      "\n",
      "The `name` provided ('') does not correspond to a known icon\n",
      "\n",
      "The `name` provided ('') does not correspond to a known icon\n",
      "\n",
      "The `name` provided ('') does not correspond to a known icon\n",
      "\n",
      "The `name` provided ('') does not correspond to a known icon\n",
      "\n",
      "The `name` provided ('') does not correspond to a known icon\n",
      "\n",
      "The `name` provided ('') does not correspond to a known icon\n",
      "\n"
     ]
    }
   ],
   "source": [
    "app <- iSEE(se_list$BNA_TF_H3K27ac)"
   ]
  },
  {
   "cell_type": "code",
   "execution_count": 28,
   "id": "0db5a7ab-3a0a-4787-9fde-e83d98796d2e",
   "metadata": {
    "tags": []
   },
   "outputs": [
    {
     "name": "stderr",
     "output_type": "stream",
     "text": [
      "Loading required package: shiny\n",
      "\n",
      "\n",
      "Listening on http://0.0.0.0:3838\n",
      "\n"
     ]
    }
   ],
   "source": [
    "shiny::runApp(app, port = 3838, host = \"0.0.0.0\")"
   ]
  },
  {
   "cell_type": "code",
   "execution_count": 29,
   "id": "c0b0edcf-892b-479b-9d59-d14a4f1d0a02",
   "metadata": {
    "tags": []
   },
   "outputs": [],
   "source": [
    "saveRDS(se_list$BNA_TF_H3K27ac, 'GSE124008-BNA_TF_H3K27ac.rds')\n",
    "saveRDS(se_list$BNA_TF, 'GSE124008-BNA_TF.rds')"
   ]
  },
  {
   "cell_type": "code",
   "execution_count": 30,
   "id": "5cb0ca4a-091c-40c2-a210-702e63237b05",
   "metadata": {
    "tags": []
   },
   "outputs": [],
   "source": [
    "saveRDS(se_list$BNA_H3K27ac, 'GSE124008-BNA_H3K27ac.rds')"
   ]
  },
  {
   "cell_type": "code",
   "execution_count": 7,
   "id": "a0a7c04b-2c74-434a-827c-1cde635ac08b",
   "metadata": {
    "tags": []
   },
   "outputs": [
    {
     "name": "stderr",
     "output_type": "stream",
     "text": [
      "\n",
      "TERMS OF USE NOTICE:\n",
      "  When using Synapse, remember that the terms and conditions of use require that you:\n",
      "  1) Attribute data contributors when discussing these data or results from these data.\n",
      "  2) Not discriminate, identify, or recontact individuals or groups represented by the data.\n",
      "  3) Use and contribute only data de-identified to HIPAA standards.\n",
      "  4) Redistribute data only under these same terms of use.\n",
      "\n",
      "\n"
     ]
    }
   ],
   "source": [
    "library(synapser)"
   ]
  },
  {
   "cell_type": "code",
   "execution_count": 4,
   "id": "d6307a00-d67e-467f-9a7b-a5fe38fc7400",
   "metadata": {
    "tags": []
   },
   "outputs": [],
   "source": [
    "syn_token <- read.table(\"../../synapse-authToke_JJ.tsv\")"
   ]
  },
  {
   "cell_type": "code",
   "execution_count": 8,
   "id": "84248d02-e072-4ceb-aac4-ee158d07c5be",
   "metadata": {
    "tags": []
   },
   "outputs": [
    {
     "data": {
      "text/plain": [
       "NULL"
      ]
     },
     "metadata": {},
     "output_type": "display_data"
    }
   ],
   "source": [
    "synLogin(authToken=syn_token$V1)"
   ]
  },
  {
   "cell_type": "code",
   "execution_count": 9,
   "id": "3f5fb97f-a1d1-4172-a00a-250e755fc4ba",
   "metadata": {
    "tags": []
   },
   "outputs": [],
   "source": [
    "project <- Project('MPRAbase')\n",
    "project <- synStore(project)"
   ]
  },
  {
   "cell_type": "code",
   "execution_count": 10,
   "id": "948854ae-2e81-4873-95b3-b7bb551bd364",
   "metadata": {
    "tags": []
   },
   "outputs": [],
   "source": [
    "dataFolder <- Folder(\"data\", parent = project)\n",
    "dataFolder <- synStore(dataFolder)"
   ]
  },
  {
   "cell_type": "code",
   "execution_count": 11,
   "id": "c9bf008b-0a34-4143-9af7-3790adde1f7f",
   "metadata": {
    "tags": []
   },
   "outputs": [],
   "source": [
    "geo_dataFolder <- Folder(\"GSE124008\", parent = dataFolder)\n",
    "geo_dataFolder <- synStore(geo_dataFolder)"
   ]
  },
  {
   "cell_type": "code",
   "execution_count": 12,
   "id": "bc9a7141-5f6c-4d1b-b50b-5937248f5acb",
   "metadata": {
    "tags": []
   },
   "outputs": [],
   "source": [
    "file <- File(path = 'GSE124008-BNA_TF_H3K27ac.rds', parent = geo_dataFolder)\n",
    "file <- synStore(file)"
   ]
  },
  {
   "cell_type": "code",
   "execution_count": 13,
   "id": "fd044bab-7470-4092-a140-5439fe2f61ca",
   "metadata": {
    "tags": []
   },
   "outputs": [],
   "source": [
    "file <- File(path = 'GSE124008-BNA_TF.rds', parent = geo_dataFolder)\n",
    "file <- synStore(file)"
   ]
  },
  {
   "cell_type": "code",
   "execution_count": 31,
   "id": "9142a136-c500-4f86-8587-0465203eceee",
   "metadata": {
    "tags": []
   },
   "outputs": [],
   "source": [
    "file <- File(path = 'GSE124008-BNA_H3K27ac.rds', parent = geo_dataFolder)\n",
    "file <- synStore(file)"
   ]
  },
  {
   "cell_type": "code",
   "execution_count": null,
   "id": "1b813100-99ad-4029-bccd-7aed02a1d687",
   "metadata": {},
   "outputs": [],
   "source": []
  }
 ],
 "metadata": {
  "kernelspec": {
   "display_name": "R",
   "language": "R",
   "name": "ir"
  },
  "language_info": {
   "codemirror_mode": "r",
   "file_extension": ".r",
   "mimetype": "text/x-r-source",
   "name": "R",
   "pygments_lexer": "r",
   "version": "4.2.2"
  }
 },
 "nbformat": 4,
 "nbformat_minor": 5
}
